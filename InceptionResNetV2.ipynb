{
  "cells": [
    {
      "cell_type": "markdown",
      "metadata": {
        "id": "view-in-github",
        "colab_type": "text"
      },
      "source": [
        "<a href=\"https://colab.research.google.com/github/alperengulunay/Music-Genre-Classification/blob/main/InceptionResNetV2.ipynb\" target=\"_parent\"><img src=\"https://colab.research.google.com/assets/colab-badge.svg\" alt=\"Open In Colab\"/></a>"
      ]
    },
    {
      "cell_type": "code",
      "execution_count": null,
      "metadata": {
        "colab": {
          "base_uri": "https://localhost:8080/"
        },
        "id": "ojaAJWcDXEw1",
        "outputId": "bdccca10-c5bc-4f87-a9da-a65d803c08eb"
      },
      "outputs": [
        {
          "output_type": "stream",
          "name": "stdout",
          "text": [
            "Mounted at /content/drive/\n"
          ]
        }
      ],
      "source": [
        "import tensorflow\n",
        "from google.colab import drive\n",
        "drive.mount('/content/drive/')"
      ]
    },
    {
      "cell_type": "code",
      "execution_count": null,
      "metadata": {
        "id": "BnZYB9XgT3LV"
      },
      "outputs": [],
      "source": [
        "import os\n",
        "import cv2\n",
        "import numpy as np\n",
        "import subprocess\n",
        "import matplotlib.pyplot as plt\n",
        "import tensorflow"
      ]
    },
    {
      "cell_type": "code",
      "execution_count": null,
      "metadata": {
        "id": "W6cWlUdnYx5M"
      },
      "outputs": [],
      "source": [
        "train_dir = r'/content/drive/My Drive/Tüm Veriler/6000 mel_spec 44100 changed pop/train'\n",
        "validation_dir = r'/content/drive/My Drive/Tüm Veriler/6000 mel_spec 44100 changed pop/validation'\n",
        "test_dir = r'/content/drive/My Drive/Tüm Veriler/6000 mel_spec 44100 changed pop/test'"
      ]
    },
    {
      "cell_type": "code",
      "execution_count": null,
      "metadata": {
        "id": "S7g_dV2iPWKC"
      },
      "outputs": [],
      "source": [
        "def freez(conv_base, what_percent):\n",
        "  param_sum = 0\n",
        "  trainable_param_count = 0\n",
        "  still_count = True\n",
        "  for layer in conv_base.layers:\n",
        "    param_sum += layer.count_params()\n",
        "    if (param_sum / conv_base.count_params() > what_percent/100):\n",
        "      layer.trainable = True\n",
        "      anchor = param_sum / conv_base.count_params()\n",
        "      trainable_param_count = param_sum\n",
        "    # elif ((abs((param_sum / conv_base.count_params())- what_percent/100) < abs(anchor - what_percent/100)) and still_count == True):\n",
        "    #   layer.trainable = True\n",
        "    #   still_count = False\n",
        "    #   trainable_param_count = param_sum\n",
        "    else:\n",
        "      layer.trainable = False\n",
        "  # conv_base.summary()\n",
        "  print(\"{:02%}\".format(trainable_param_count/conv_base.count_params()))"
      ]
    },
    {
      "cell_type": "code",
      "execution_count": null,
      "metadata": {
        "colab": {
          "base_uri": "https://localhost:8080/"
        },
        "id": "YSrDhbwjYZ2I",
        "outputId": "f760bb25-0580-4519-97f1-6add53c3c88b"
      },
      "outputs": [
        {
          "output_type": "stream",
          "name": "stdout",
          "text": [
            "Downloading data from https://storage.googleapis.com/tensorflow/keras-applications/inception_resnet_v2/inception_resnet_v2_weights_tf_dim_ordering_tf_kernels_notop.h5\n",
            "219062272/219055592 [==============================] - 2s 0us/step\n",
            "219070464/219055592 [==============================] - 2s 0us/step\n"
          ]
        }
      ],
      "source": [
        "def inception_resnet_v2():\n",
        "  return tensorflow.keras.applications.inception_resnet_v2.InceptionResNetV2(\n",
        "    include_top=False,\n",
        "    weights='imagenet',\n",
        "    input_tensor=None,\n",
        "    input_shape=(299, 299, 3),\n",
        "    pooling='avg',\n",
        "    classes=10,\n",
        "    classifier_activation='softmax'\n",
        "    )\n",
        "\n",
        "conv_base = inception_resnet_v2()\n",
        "# conv_base.summary()"
      ]
    },
    {
      "cell_type": "code",
      "execution_count": null,
      "metadata": {
        "id": "8KINA_iZZKXZ"
      },
      "outputs": [],
      "source": [
        "#functional model\n",
        "inputs = tensorflow.keras.Input(shape=(299, 299, 3))\n",
        "\n",
        "x = conv_base(inputs)\n",
        "x = tensorflow.keras.layers.Dropout(.3, input_shape=(2,))(x)\n",
        "x = tensorflow.keras.layers.Dense(256, activation = 'relu')(x)\n",
        "x = tensorflow.keras.layers.Dropout(.3, input_shape=(2,))(x)\n",
        "x = tensorflow.keras.layers.Dense(128, activation = 'relu')(x)\n",
        "outputs = tensorflow.keras.layers.Dense(10, activation = 'softmax')(x)\n",
        "\n",
        "tensorflow.random.set_seed(0)\n",
        "# freez(xception, 50)\n",
        "\n",
        "func_model = tensorflow.keras.Model(inputs = inputs, outputs = outputs)\n",
        "\n",
        "func_model.compile(loss='categorical_crossentropy',\n",
        "              optimizer=\"adamax\", # tensorflow.keras.optimizers.RMSprop(learning_rate=1e-5) \n",
        "              metrics=['acc'])\n",
        "\n",
        "\n",
        "model = func_model\n",
        "# model.summary()"
      ]
    },
    {
      "cell_type": "code",
      "execution_count": null,
      "metadata": {
        "colab": {
          "base_uri": "https://localhost:8080/"
        },
        "id": "w_l7Hmh5ffsc",
        "outputId": "3c8208a7-e784-4fb4-9c89-d3fb8ac67cd7"
      },
      "outputs": [
        {
          "output_type": "stream",
          "name": "stdout",
          "text": [
            "Found 5000 images belonging to 10 classes.\n",
            "Found 500 images belonging to 10 classes.\n",
            "Found 500 images belonging to 10 classes.\n",
            "{'Halk': 0, 'Klasik': 1, 'Pop': 2, 'Rap': 3, 'Rock': 4, 'arabesk': 5, 'caz': 6, 'elektronik': 7, 'punk': 8, 'tasavvuf': 9}\n"
          ]
        }
      ],
      "source": [
        "# preprocessing_1\n",
        "train_datagen = tensorflow.keras.preprocessing.image.ImageDataGenerator(\n",
        "      rescale=1.0/255,\n",
        "      # rotation_range=40,\n",
        "      # width_shift_range=0.2,\n",
        "      # height_shift_range=0.2,\n",
        "      # shear_range=0.2,\n",
        "      # zoom_range=0.2,\n",
        "      horizontal_flip=True\n",
        "      )\n",
        "train_generator = train_datagen.flow_from_directory(\n",
        "        train_dir,\n",
        "        target_size=(299, 299),\n",
        "        batch_size=32,\n",
        "        class_mode='categorical'\n",
        "        )\n",
        "\n",
        "validation_datagen = tensorflow.keras.preprocessing.image.ImageDataGenerator(\n",
        "        rescale=1./255\n",
        "        )\n",
        "validation_generator = validation_datagen.flow_from_directory(\n",
        "        validation_dir,\n",
        "        target_size=(299, 299),\n",
        "        batch_size=32,\n",
        "        class_mode='categorical'\n",
        "        )\n",
        "\n",
        "test_datagen = tensorflow.keras.preprocessing.image.ImageDataGenerator(\n",
        "        rescale=1./255\n",
        "        )\n",
        "test_generator = test_datagen.flow_from_directory(\n",
        "        test_dir,\n",
        "        target_size=(299, 299),\n",
        "        batch_size=10,\n",
        "        class_mode='categorical',\n",
        "        shuffle=False\n",
        "        )\n",
        "\n",
        "train_y=train_generator.classes\n",
        "test_y=test_generator.classes\n",
        "val_y=validation_generator.classes\n",
        "\n",
        "\n",
        "print(train_generator.class_indices)"
      ]
    },
    {
      "cell_type": "code",
      "execution_count": null,
      "metadata": {
        "colab": {
          "base_uri": "https://localhost:8080/"
        },
        "id": "9JdkoT11SxuH",
        "outputId": "aac540f9-a525-4ddf-c1c0-a40132d4331f"
      },
      "outputs": [
        {
          "output_type": "stream",
          "name": "stdout",
          "text": [
            "Found 5000 images belonging to 10 classes.\n",
            "for preprocessing\n",
            "Found 500 images belonging to 10 classes.\n",
            "for preprocessing\n",
            "Found 500 images belonging to 10 classes.\n",
            "for preprocessing\n"
          ]
        }
      ],
      "source": [
        "def prepro_direc_iter(dir_):\n",
        "  tensorflow.keras.preprocessing.image.DirectoryIterator(\n",
        "      dir_,\n",
        "      train_datagen,\n",
        "      target_size=(299, 299, 3),\n",
        "      color_mode='rgb',\n",
        "      classes=[\"Halk\", \"Klasik\", \"Pop\", \"Rap\", \"Rock\", \"arabesk\", \"caz\", \"elektronik\", \"punk\", \"tasavvuf\"],\n",
        "      class_mode='categorical',\n",
        "      batch_size=32,\n",
        "      shuffle=False,\n",
        "      seed=None, # Random seed for data shuffling.\n",
        "      data_format=None,\n",
        "      subset=None,\n",
        "      interpolation='nearest',\n",
        "      dtype=None\n",
        "  )\n",
        "  print('for preprocessing')\n",
        "dirs = [train_dir, test_dir, validation_dir]\n",
        "for i in dirs:\n",
        "  prepro_direc_iter(i)"
      ]
    },
    {
      "cell_type": "code",
      "execution_count": null,
      "metadata": {
        "colab": {
          "base_uri": "https://localhost:8080/"
        },
        "id": "dkgxFLI1Y41L",
        "outputId": "fc8f2afb-4959-45e4-eee7-d8d3d2964efb"
      },
      "outputs": [
        {
          "output_type": "stream",
          "name": "stdout",
          "text": [
            "Epoch 1/20\n",
            "156/156 [==============================] - 4276s 27s/step - loss: 1.5382 - acc: 0.4573 - val_loss: 1.1408 - val_acc: 0.6560\n",
            "Epoch 2/20\n",
            "156/156 [==============================] - 184s 1s/step - loss: 0.7747 - acc: 0.7317 - val_loss: 1.0155 - val_acc: 0.6760\n",
            "Epoch 3/20\n",
            "156/156 [==============================] - 175s 1s/step - loss: 0.5496 - acc: 0.8124 - val_loss: 1.7295 - val_acc: 0.5060\n",
            "Epoch 4/20\n",
            "156/156 [==============================] - 175s 1s/step - loss: 0.4014 - acc: 0.8635 - val_loss: 1.6577 - val_acc: 0.5760\n",
            "Epoch 5/20\n",
            "156/156 [==============================] - 185s 1s/step - loss: 0.3290 - acc: 0.8881 - val_loss: 1.0728 - val_acc: 0.7360\n",
            "Epoch 6/20\n",
            "156/156 [==============================] - 184s 1s/step - loss: 0.2301 - acc: 0.9241 - val_loss: 0.8931 - val_acc: 0.7660\n",
            "Epoch 7/20\n",
            "156/156 [==============================] - 184s 1s/step - loss: 0.1664 - acc: 0.9420 - val_loss: 0.8356 - val_acc: 0.7840\n",
            "Epoch 8/20\n",
            "156/156 [==============================] - 175s 1s/step - loss: 0.1364 - acc: 0.9555 - val_loss: 1.5274 - val_acc: 0.6860\n",
            "Epoch 9/20\n",
            "156/156 [==============================] - 175s 1s/step - loss: 0.1168 - acc: 0.9626 - val_loss: 0.9071 - val_acc: 0.7600\n",
            "Epoch 10/20\n",
            "156/156 [==============================] - 175s 1s/step - loss: 0.0900 - acc: 0.9726 - val_loss: 1.1980 - val_acc: 0.7640\n",
            "Epoch 11/20\n",
            "156/156 [==============================] - 175s 1s/step - loss: 0.0794 - acc: 0.9767 - val_loss: 1.3265 - val_acc: 0.7200\n",
            "Epoch 12/20\n",
            "156/156 [==============================] - 184s 1s/step - loss: 0.0887 - acc: 0.9714 - val_loss: 0.8855 - val_acc: 0.7900\n",
            "Epoch 13/20\n",
            "156/156 [==============================] - 175s 1s/step - loss: 0.0672 - acc: 0.9762 - val_loss: 1.0116 - val_acc: 0.7840\n",
            "Epoch 14/20\n",
            "156/156 [==============================] - 175s 1s/step - loss: 0.0550 - acc: 0.9819 - val_loss: 2.0407 - val_acc: 0.6700\n",
            "Epoch 15/20\n",
            "156/156 [==============================] - 175s 1s/step - loss: 0.0349 - acc: 0.9905 - val_loss: 0.9617 - val_acc: 0.7680\n"
          ]
        }
      ],
      "source": [
        "call_back = tensorflow.keras.callbacks.EarlyStopping(\n",
        "    monitor='val_loss',\n",
        "    min_delta=0,\n",
        "    patience=8,\n",
        "    verbose=0,\n",
        "    mode='auto',\n",
        "    baseline=None,\n",
        "    restore_best_weights=False\n",
        ")\n",
        "\n",
        "import random\n",
        "best_model_save = tensorflow.keras.callbacks.ModelCheckpoint(\n",
        "    '/content/drive/My Drive/Tüm Veriler/best_model' + str(random.randint(0,100000)) + '.h5',\n",
        "    monitor='val_acc',\n",
        "    verbose=0,\n",
        "    save_best_only=True,\n",
        "    save_weights_only=False,\n",
        "    mode='max',\n",
        "    save_freq='epoch',\n",
        "    options=None,\n",
        "    initial_value_threshold=None,\n",
        ")\n",
        "\n",
        "\n",
        "# Training the model.\n",
        "history = model.fit(\n",
        "      train_generator,\n",
        "      # steps_per_epoch=62,\n",
        "      epochs=20,\n",
        "      steps_per_epoch = 156,\n",
        "      callbacks = [call_back, best_model_save],\n",
        "      validation_data = validation_generator\n",
        "      )"
      ]
    },
    {
      "cell_type": "code",
      "execution_count": null,
      "metadata": {
        "colab": {
          "base_uri": "https://localhost:8080/"
        },
        "id": "9gM5biN1LV2U",
        "outputId": "e6642a72-4271-428f-8f9f-4486166a5dab"
      },
      "outputs": [
        {
          "output_type": "stream",
          "name": "stdout",
          "text": [
            "50/50 [==============================] - 415s 8s/step - loss: 0.8497 - acc: 0.8200\n"
          ]
        }
      ],
      "source": [
        "test_loss, test_acc = model.evaluate(test_generator)"
      ]
    },
    {
      "cell_type": "code",
      "execution_count": null,
      "metadata": {
        "id": "EfRjJRnnKK5R"
      },
      "outputs": [],
      "source": [
        "model_path = r'/content/drive/MyDrive/Tüm Veriler/8320-8480.h5'\n",
        "model = tensorflow.keras.models.load_model(model_path)"
      ]
    },
    {
      "cell_type": "code",
      "execution_count": null,
      "metadata": {
        "id": "6B9GoO9ILaib"
      },
      "outputs": [],
      "source": [
        "##\n",
        "Ypred = model.predict(test_generator)\n",
        "\n",
        "Ypred = np.argmax(Ypred, axis=1)"
      ]
    },
    {
      "cell_type": "code",
      "execution_count": null,
      "metadata": {
        "colab": {
          "base_uri": "https://localhost:8080/"
        },
        "id": "MSWWfRsSMjTX",
        "outputId": "fbafeb55-88aa-4b57-bd36-a5eb5d051b86"
      },
      "outputs": [
        {
          "output_type": "stream",
          "name": "stdout",
          "text": [
            "50/50 [==============================] - 5s 76ms/step - loss: 0.6555 - acc: 0.8480\n"
          ]
        },
        {
          "output_type": "execute_result",
          "data": {
            "text/plain": [
              "[0.6555252075195312, 0.8479999899864197]"
            ]
          },
          "metadata": {},
          "execution_count": 13
        }
      ],
      "source": [
        "model.evaluate(test_generator)"
      ]
    },
    {
      "cell_type": "code",
      "execution_count": null,
      "metadata": {
        "colab": {
          "base_uri": "https://localhost:8080/",
          "height": 311
        },
        "id": "-xZn8jNpM3Op",
        "outputId": "40b04aec-c048-4f25-832f-957fe08047fd"
      },
      "outputs": [
        {
          "output_type": "display_data",
          "data": {
            "text/plain": [
              "<Figure size 432x288 with 2 Axes>"
            ],
            "image/png": "[encoded data removed]"
          },
          "metadata": {
            "needs_background": "light"
          }
        }
      ],
      "source": [
        "import matplotlib.pyplot as plt\n",
        "from sklearn.metrics import classification_report, confusion_matrix\n",
        "import itertools\n",
        "\n",
        "def plot_confusion_matrix(cm, classes,title='Confusion Matrix', cmap=plt.cm.Blues):\n",
        "    \n",
        "    plt.imshow(cm, interpolation='nearest', cmap=cmap)\n",
        "    plt.title(title)\n",
        "    plt.colorbar()\n",
        "    tick_marks = np.arange(len(classes))\n",
        "    plt.xticks(tick_marks, classes, rotation=45)\n",
        "    plt.yticks(tick_marks, classes)\n",
        "    \n",
        "    thresh = cm.max()/2\n",
        "    for i,j in itertools.product(range(cm.shape[0]), range(cm.shape[1])):\n",
        "        plt.text(j, i, cm[i,j],\n",
        "                horizontalalignment='center',\n",
        "                color='white' if cm[i, j] > thresh else \"black\")\n",
        "        \n",
        "    plt.tight_layout()\n",
        "    plt.ylabel('True Label')\n",
        "    plt.xlabel('Predicted Label')\n",
        "    \n",
        "plot_confusion_matrix(confusion_matrix(test_y,Ypred), classes=['Halk','Klasik','Pop','Rap','Rock','Arabesk','Caz','Elektronik','Punk','Tasavvuf'])"
      ]
    },
    {
      "cell_type": "code",
      "execution_count": null,
      "metadata": {
        "colab": {
          "base_uri": "https://localhost:8080/",
          "height": 105
        },
        "id": "s6nPl1_JNh7G",
        "outputId": "f7b566ad-a1a2-457f-8d1c-7013d1393d22"
      },
      "outputs": [
        {
          "output_type": "execute_result",
          "data": {
            "text/plain": [
              "'              precision    recall  f1-score   support\\n\\n           0       0.84      0.92      0.88        50\\n           1       0.86      0.84      0.85        50\\n           2       0.91      0.80      0.85        50\\n           3       0.78      1.00      0.88        50\\n           4       0.92      0.70      0.80        50\\n           5       0.69      0.86      0.77        50\\n           6       0.81      0.84      0.82        50\\n           7       0.93      0.74      0.82        50\\n           8       0.90      0.94      0.92        50\\n           9       0.95      0.84      0.89        50\\n\\n    accuracy                           0.85       500\\n   macro avg       0.86      0.85      0.85       500\\nweighted avg       0.86      0.85      0.85       500\\n'"
            ],
            "application/vnd.google.colaboratory.intrinsic+json": {
              "type": "string"
            }
          },
          "metadata": {},
          "execution_count": 15
        }
      ],
      "source": [
        "classification_report(test_y,Ypred)"
      ]
    }
  ],
  "metadata": {
    "accelerator": "GPU",
    "colab": {
      "collapsed_sections": [],
      "name": "InceptionResNetV2.ipynb",
      "provenance": [],
      "include_colab_link": true
    },
    "kernelspec": {
      "display_name": "Python 3",
      "name": "python3"
    },
    "language_info": {
      "name": "python"
    }
  },
  "nbformat": 4,
  "nbformat_minor": 0
}